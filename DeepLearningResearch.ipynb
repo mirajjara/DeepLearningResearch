{
  "nbformat": 4,
  "nbformat_minor": 0,
  "metadata": {
    "colab": {
      "provenance": [],
      "mount_file_id": "1WaZPpRBPTSCyCz8NRUIbiS9idmixeIcC",
      "authorship_tag": "ABX9TyMJrz2Qia14oPCZrg53GQdM",
      "include_colab_link": true
    },
    "kernelspec": {
      "name": "python3",
      "display_name": "Python 3"
    },
    "language_info": {
      "name": "python"
    }
  },
  "cells": [
    {
      "cell_type": "markdown",
      "metadata": {
        "id": "view-in-github",
        "colab_type": "text"
      },
      "source": [
        "<a href=\"https://colab.research.google.com/github/mirajjara/DeepLearningResearch/blob/main/DeepLearningResearch.ipynb\" target=\"_parent\"><img src=\"https://colab.research.google.com/assets/colab-badge.svg\" alt=\"Open In Colab\"/></a>"
      ]
    },
    {
      "cell_type": "markdown",
      "source": [
        "#Miraj Jara - Custom made Convolutional Neural Network\n",
        "\n",
        "The purpose of this notebook is to create a CNN capable of classifying medical images into three categories: benign, malignant, and normal. The network will be trained on a dataset of labeled images and evaluated on its accuracy and performance."
      ],
      "metadata": {
        "id": "FG5E_tpMhP6i"
      }
    },
    {
      "cell_type": "markdown",
      "source": [
        "To start, we will clone the Breast Ultrasound Images Dataset repository from GitHub and set the path to the dataset. We will then list the subfolders in the dataset using os.listdir(dataset_path), which should output the categories benign, malignant, and normal."
      ],
      "metadata": {
        "id": "G7LE3Xu7ao3Y"
      }
    },
    {
      "cell_type": "code",
      "source": [
        "!git clone https://github.com/gt-big-data/cancer-detection.git"
      ],
      "metadata": {
        "id": "y5HhvTR4YY3z",
        "colab": {
          "base_uri": "https://localhost:8080/"
        },
        "outputId": "7c472c43-7fd5-4456-f800-d7f0d05d6869"
      },
      "execution_count": null,
      "outputs": [
        {
          "output_type": "stream",
          "name": "stdout",
          "text": [
            "Cloning into 'cancer-detection'...\n",
            "remote: Enumerating objects: 28036, done.\u001b[K\n",
            "remote: Counting objects: 100% (4817/4817), done.\u001b[K\n",
            "remote: Compressing objects: 100% (3969/3969), done.\u001b[K\n",
            "remote: Total 28036 (delta 774), reused 4797 (delta 771), pack-reused 23219\u001b[K\n",
            "Receiving objects: 100% (28036/28036), 237.50 MiB | 13.16 MiB/s, done.\n",
            "Resolving deltas: 100% (4719/4719), done.\n",
            "Updating files: 100% (1583/1583), done.\n"
          ]
        }
      ]
    },
    {
      "cell_type": "code",
      "source": [
        "import os\n",
        "dataset_path = '/content/cancer-detection/Dataset_BUSI_with_GT'\n",
        "os.listdir(dataset_path)  # lists the subfolders (benign, malignant, normal)"
      ],
      "metadata": {
        "colab": {
          "base_uri": "https://localhost:8080/"
        },
        "id": "RZ38wPsSItGs",
        "outputId": "65d9e8d1-9058-45e2-a365-e3b9d9c6ba09"
      },
      "execution_count": null,
      "outputs": [
        {
          "output_type": "execute_result",
          "data": {
            "text/plain": [
              "['benign', 'malignant', 'normal']"
            ]
          },
          "metadata": {},
          "execution_count": 2
        }
      ]
    },
    {
      "cell_type": "markdown",
      "source": [
        "##About the Dataset"
      ],
      "metadata": {
        "id": "_5ZgjIgcv7_R"
      }
    },
    {
      "cell_type": "markdown",
      "source": [
        "Data collection: Breast ultrasound images from women aged 25-75, collected in 2018\n",
        "\n",
        "Number of patients: 600 femalepatients\n",
        "\n",
        "Number of images: 780 images, with an average size of 500x500 pixels, in PNG format\n",
        "\n",
        "Ground truth images: Included with the original images\n",
        "\n",
        "Classes: Images are categorized into three classes: normal, benign, and malignant\n",
        "\n",
        "Citation: If you use this dataset, please cite the following paper:\n",
        "Al-Dhabyani W, Gomaa M, Khaled H, Fahmy A. Dataset of breast ultrasound images. Data in Brief. 2020 Feb;28:104863. DOI: 10.1016/j.dib.2019.104863"
      ],
      "metadata": {
        "id": "FLME4gq1fGR9"
      }
    },
    {
      "cell_type": "markdown",
      "source": [
        "#Data Preprocessing\n",
        "\n"
      ],
      "metadata": {
        "id": "LN4l9eU4aEW0"
      }
    },
    {
      "cell_type": "markdown",
      "source": [
        "##Resizing images\n",
        "\n",
        "The following code resizes all images in the dataset to 224x224 and saves them in resized_images."
      ],
      "metadata": {
        "id": "MQ3nwOMMRPf_"
      }
    },
    {
      "cell_type": "code",
      "source": [
        "import cv2\n",
        "\n",
        "# Define the dataset path and output path\n",
        "dataset_path = '/content/cancer-detection/Dataset_BUSI_with_GT'\n",
        "output_path = '/content/resized_images'\n",
        "\n",
        "# Create the output path if it doesn't exist\n",
        "if not os.path.exists(output_path):\n",
        "    os.makedirs(output_path)\n",
        "\n",
        "# Define the resize dimensions\n",
        "resize_dim = (224, 224)\n",
        "\n",
        "# Loop through each subfolder (benign, malignant, normal)\n",
        "for subfolder in os.listdir(dataset_path):\n",
        "    # Create a subfolder in the output path\n",
        "    subfolder_path = os.path.join(output_path, subfolder)\n",
        "    if not os.path.exists(subfolder_path):\n",
        "        os.makedirs(subfolder_path)\n",
        "\n",
        "    # Loop through each image in the subfolder\n",
        "    for image_file in os.listdir(os.path.join(dataset_path, subfolder)):\n",
        "        # Check if the file has an image extension\n",
        "        if image_file.lower().endswith(('.png', '.jpg', '.jpeg', '.tif', '.bmp', '.gif')):\n",
        "            # Load the image\n",
        "            img_path = os.path.join(dataset_path, subfolder, image_file)\n",
        "            img = cv2.imread(img_path)\n",
        "\n",
        "            # Check if the image was loaded correctly\n",
        "            if img is not None:\n",
        "                # Resize the image\n",
        "                img = cv2.resize(img, resize_dim)\n",
        "\n",
        "                # Save the resized image\n",
        "                output_file = os.path.join(subfolder_path, image_file)\n",
        "                cv2.imwrite(output_file, img)\n",
        "            else:\n",
        "                print(f\"Error: Unable to read image {img_path}\")\n",
        "        else:\n",
        "            print(f\"Skipping non-image file: {image_file}\")"
      ],
      "metadata": {
        "colab": {
          "base_uri": "https://localhost:8080/"
        },
        "id": "EiuR3GceP-nI",
        "outputId": "78491950-21d7-468a-fec3-9ab9c8c89530"
      },
      "execution_count": null,
      "outputs": [
        {
          "output_type": "stream",
          "name": "stdout",
          "text": [
            "Skipping non-image file: read-me\n",
            "Skipping non-image file: read-me\n",
            "Skipping non-image file: readme\n"
          ]
        }
      ]
    },
    {
      "cell_type": "markdown",
      "source": [
        "#Creating the Model\n",
        "\n",
        "The model consists of 9 layers: 3 convolutional layers, 3 max pooling layers, 1 flatten layer, 1 dense layer, and 1 dropout layer.\n",
        "\n",
        "The output shape of each layer is displayed, showing the number of feature maps or units in each layer.\n",
        "The number of parameters (Param #) is displayed for each layer, with a total of approximately 11 million parameters in the model.\n",
        "All parameters are trainable, indicating that the model is ready for training."
      ],
      "metadata": {
        "id": "jkBGJdhCZhgD"
      }
    },
    {
      "cell_type": "code",
      "source": [
        "from tensorflow import keras\n",
        "from tensorflow.keras import layers\n",
        "from tensorflow.keras import optimizers\n",
        "\n",
        "# Define the CNN model architecture\n",
        "model = keras.Sequential([\n",
        "    layers.Conv2D(32, (3, 3), activation='relu', input_shape=(224, 224, 3)),\n",
        "    layers.MaxPooling2D((2, 2)),\n",
        "    layers.Conv2D(64, (3, 3), activation='relu'),\n",
        "    layers.MaxPooling2D((2, 2)),\n",
        "    layers.Conv2D(128, (3, 3), activation='relu'),\n",
        "    layers.MaxPooling2D((2, 2)),\n",
        "    layers.Flatten(),\n",
        "    layers.Dense(128, activation='relu'),\n",
        "    layers.Dropout(0.2),\n",
        "    layers.Dense(3, activation='softmax')  # 3 classes: benign, malignant, normal\n",
        "])\n",
        "\n",
        "# Compile the model\n",
        "model.compile(\n",
        "    optimizer=optimizers.Adam(learning_rate=0.001),\n",
        "    loss='categorical_crossentropy',\n",
        "    metrics=['accuracy']\n",
        ")\n",
        "\n",
        "# Print the model summary\n",
        "model.summary()"
      ],
      "metadata": {
        "colab": {
          "base_uri": "https://localhost:8080/"
        },
        "id": "VvymmuMqZBtl",
        "outputId": "8aef5b31-a821-4952-bde7-c0717e0cde68"
      },
      "execution_count": null,
      "outputs": [
        {
          "output_type": "stream",
          "name": "stdout",
          "text": [
            "Model: \"sequential_1\"\n",
            "_________________________________________________________________\n",
            " Layer (type)                Output Shape              Param #   \n",
            "=================================================================\n",
            " conv2d_3 (Conv2D)           (None, 222, 222, 32)      896       \n",
            "                                                                 \n",
            " max_pooling2d_3 (MaxPoolin  (None, 111, 111, 32)      0         \n",
            " g2D)                                                            \n",
            "                                                                 \n",
            " conv2d_4 (Conv2D)           (None, 109, 109, 64)      18496     \n",
            "                                                                 \n",
            " max_pooling2d_4 (MaxPoolin  (None, 54, 54, 64)        0         \n",
            " g2D)                                                            \n",
            "                                                                 \n",
            " conv2d_5 (Conv2D)           (None, 52, 52, 128)       73856     \n",
            "                                                                 \n",
            " max_pooling2d_5 (MaxPoolin  (None, 26, 26, 128)       0         \n",
            " g2D)                                                            \n",
            "                                                                 \n",
            " flatten_1 (Flatten)         (None, 86528)             0         \n",
            "                                                                 \n",
            " dense_2 (Dense)             (None, 128)               11075712  \n",
            "                                                                 \n",
            " dropout_1 (Dropout)         (None, 128)               0         \n",
            "                                                                 \n",
            " dense_3 (Dense)             (None, 3)                 387       \n",
            "                                                                 \n",
            "=================================================================\n",
            "Total params: 11169347 (42.61 MB)\n",
            "Trainable params: 11169347 (42.61 MB)\n",
            "Non-trainable params: 0 (0.00 Byte)\n",
            "_________________________________________________________________\n"
          ]
        }
      ]
    },
    {
      "cell_type": "markdown",
      "source": [],
      "metadata": {
        "id": "5Co3hqtGXn49"
      }
    },
    {
      "cell_type": "code",
      "source": [],
      "metadata": {
        "id": "iEF2oK0cZpH2"
      },
      "execution_count": null,
      "outputs": []
    }
  ]
}